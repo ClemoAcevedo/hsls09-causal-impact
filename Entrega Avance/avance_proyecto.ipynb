{
 "cells": [
  {
   "cell_type": "markdown",
   "id": "0c8d4312",
   "metadata": {
    "id": "0c8d4312"
   },
   "source": [
    "Pontificia Universidad Católica de Chile <br>\n",
    "Departamento de Ciencia de la Computación <br>\n",
    "IIC2433 - Minería de Datos\n",
    "<br>\n",
    "\n",
    "<center>\n",
    "    <h2> Proyecto Minería </h2>\n",
    "    <h1> Análisis causal de los factores  que  <br> impulsan el rendimiento estudiantil</h1>\n",
    "    <p>\n",
    "        Profesor Maximiliano Ojeda<br>\n",
    "        Segundo Semestre 2025<br>    \n",
    "        Fecha de entrega: 28 de octubre\n",
    "    </p>\n",
    "    <br>\n",
    "</center>\n",
    "\n",
    "<br>\n",
    "\n",
    "\n",
    "Integrantes: Clemente Acevedo, Paul Alvarez, Lucciano Bertinelli. <br>\n",
    "\n",
    "\n",
    "---"
   ]
  },
  {
   "cell_type": "markdown",
   "id": "622fc1ba",
   "metadata": {
    "id": "622fc1ba"
   },
   "source": [
    "# Librerías"
   ]
  },
  {
   "cell_type": "code",
   "execution_count": 2,
   "id": "b7d5f341",
   "metadata": {
    "id": "b7d5f341"
   },
   "outputs": [],
   "source": [
    "import pandas as pd\n",
    "import numpy as np\n",
    "import matplotlib.pyplot as plt\n",
    "from matplotlib.ticker import MaxNLocator\n",
    "import seaborn as sns\n",
    "\n",
    "# Librerías adicionales utilizadas\n",
    "from sklearn.preprocessing import OneHotEncoder, MinMaxScaler\n",
    "from sklearn.decomposition import PCA\n",
    "from sklearn.manifold import TSNE\n",
    "from sklearn.model_selection import train_test_split,  cross_val_score\n",
    "from sklearn.linear_model import LogisticRegression\n",
    "from sklearn.metrics import accuracy_score, classification_report, confusion_matrix\n",
    "from sklearn.neighbors import KNeighborsClassifier\n"
   ]
  },
  {
   "cell_type": "markdown",
   "id": "a9ec84a7",
   "metadata": {
    "id": "a9ec84a7"
   },
   "source": [
    "# Introducción: \n",
    "El presente análisis utiliza datos del High School Longitudinal Study of 2009 (HSLS:09), un estudio realizado por el National Center for Education Statistics (NCES) de los Estados Unidos. Este dataset sigue a más de 23.000 estudiantes desde el 9° grado (año 2009) hasta su transición a la educación superior y mercado laboral. El objetivo del HSLS:09 es comprender cómo los factores académicos, familiares y contextuales influyen en las trayectorias educativas y profesionales de los estudiantes. Su diseño longitudinal permite analizar tanto asociaciones como posibles efectos causales a lo largo del tiempo.\n",
    "\n",
    "Los datos son de uso público [High School Longitudinal Study of 2009](https://nces.ed.gov/datalab/onlinecodebook), disponibles en el portal oficial del NCES.\n",
    "\n",
    "Para este proyecto, se descargaron los archivos de uso público en formato CSV desde el Online Codebook del NCES. Se utilizó principalmente el archivo HSLS09_STUDENT.csv, que contiene la información individual de los estudiantes, junto con el archivo HSLS09_TRANSCRIPT.csv, que incluye registros de rendimiento académico (GPA y créditos cursados).\n",
    "\n",
    "A partir de estas fuentes se seleccionaron variables clave relacionadas con tratamiento (participación en programas académicos avanzados o de apoyo; cursos “Honors”, “Dual Credit”, o tutorías), de resultado (desempeño académico medido por el promedio de calificaciones GPA) y confusoras (nivel educativo de los padres, ingreso familiar, rendimiento previo y variables demográficas).\n",
    "\n",
    "El uso de este dataset permite realizar un análisis causal robusto sobre los factores que influyen en el rendimiento estudiantil, combinando información socioeconómica y educativa."
   ]
  },
  {
   "cell_type": "markdown",
   "id": "41e2e918",
   "metadata": {
    "id": "41e2e918"
   },
   "source": [
    "# Parte 1: Carga de la base de datos y selección de variables"
   ]
  },
  {
   "cell_type": "markdown",
   "id": "bd9d992b",
   "metadata": {
    "id": "bd9d992b"
   },
   "source": [
    "## 1.1 Carga de Datos y vista previa"
   ]
  },
  {
   "cell_type": "code",
   "execution_count": 23,
   "id": "9eZub7WCQne1",
   "metadata": {
    "id": "9eZub7WCQne1"
   },
   "outputs": [],
   "source": [
    "# Cargamos la base de datos \n",
    "df = pd.read_csv(\"hsls_17_student_pets_sr_v1_0.csv\")"
   ]
  },
  {
   "cell_type": "code",
   "execution_count": 24,
   "id": "cfe5d446",
   "metadata": {},
   "outputs": [
    {
     "name": "stdout",
     "output_type": "stream",
     "text": [
      "El tamaño del dataset es de 23503 registros y 9614 variables.\n"
     ]
    }
   ],
   "source": [
    "# Tamaño inicial\n",
    "print(f\"El tamaño del dataset es de {df.shape[0]} registros y {df.shape[1]} variables.\")"
   ]
  },
  {
   "cell_type": "markdown",
   "id": "babdf0df",
   "metadata": {
    "id": "babdf0df"
   },
   "source": [
    "## 1.2 Selección de columnas"
   ]
  },
  {
   "cell_type": "code",
   "execution_count": 25,
   "id": "29b9731b",
   "metadata": {},
   "outputs": [],
   "source": [
    "# Seleccionamos nuestras variables a utilizar\n",
    "cols = [\n",
    "    \"STU_ID\", \"SCH_ID\",\n",
    "    \"X3TGPA9TH\", \"X1TXMTH\",\n",
    "    \"X1PAREDU\", \"X1FAMINCOME\",\n",
    "    \"X1POVERTY\", \"X1POVERTY130\",\n",
    "    \"X1PAR1EMP\",\n",
    "    \"X1SEX\", \"X1RACE\", \"X1STDOB\",\n",
    "    \"C1GETAHEAD\", \"X3TCREDADV\", \"X3TCREDHON\", \"X5DUALCRSFLG\", \"A1G9STUDY\",\n",
    "    \"X3TGPAACAD\", \"X3TGPA12TH\",\n",
    "    \"X5GPAALL\", \"X3TXSATCOMP\"\n",
    "]\n",
    "\n",
    "# Nuevo dataset con las variables listas\n",
    "df_vars = df[cols]"
   ]
  },
  {
   "cell_type": "code",
   "execution_count": 26,
   "id": "8e6ddfea",
   "metadata": {},
   "outputs": [
    {
     "name": "stdout",
     "output_type": "stream",
     "text": [
      "El tamaño del dataset es de 23503 registros y 21 variables.\n"
     ]
    }
   ],
   "source": [
    "print(f\"El tamaño del dataset es de {df_vars.shape[0]} registros y {df_vars.shape[1]} variables.\")"
   ]
  },
  {
   "cell_type": "code",
   "execution_count": 27,
   "id": "ac4bb226",
   "metadata": {},
   "outputs": [],
   "source": [
    "# Finalmente guardamos el dataset actual\n",
    "df_vars.to_csv(\"hsls09_filtrado.csv\", index=False)"
   ]
  },
  {
   "cell_type": "markdown",
   "id": "932c0628",
   "metadata": {},
   "source": [
    "## 1.3 Descripción de variables utilizadas"
   ]
  },
  {
   "cell_type": "markdown",
   "id": "c2127c98",
   "metadata": {},
   "source": [
    "\n",
    "#### **1. Llaves de Unión**\n",
    "- **STU_ID**: *Integer* que identifica de forma única a cada estudiante dentro del estudio.  \n",
    "- **SCH_ID**: *Integer* que identifica la escuela a la que pertenece el estudiante.\n",
    "\n",
    "\n",
    "#### **2. Confusores (El Contexto – Ola Base X1/X3)**\n",
    "\n",
    "**Habilidad Previa**\n",
    "- **X3TGPA9TH**: *Float* que representa el promedio general (GPA) del estudiante en 9° grado. Indica su rendimiento académico previo.  \n",
    "- **X1TXMTH**: *Float* que mide la aptitud matemática inicial del estudiante mediante un puntaje estandarizado aplicado en 9° grado.\n",
    "\n",
    "**Familia**\n",
    "- **X1PAREDU**: *Categórica ordinal* que indica el nivel educativo más alto alcanzado por los padres o tutores.  \n",
    "- **X1FAMINCOME**: *Float* que representa el ingreso familiar anual del hogar.  \n",
    "- **X1POVERTY**: *Binaria* que indica si el ingreso familiar está por debajo del 100% del umbral de pobreza.  \n",
    "- **X1POVERTY130**: *Binaria* que indica si el ingreso familiar está por debajo del 130% del umbral de pobreza.   \n",
    "- **X1PAR1EMP**: *Categórica nominal* que describe el estado laboral del sustentador principal del hogar.\n",
    "\n",
    "**Estudiante**\n",
    "- **X1SEX**: *Categórica nominal* que indica el sexo biológico del estudiante (masculino o femenino).  \n",
    "- **X1RACE**: *Categórica nominal* que identifica la etnia o raza del estudiante.  \n",
    "- **X1STDOB**: *Date* que indica la fecha de nacimiento del estudiante, útil para calcular la edad al inicio del estudio.\n",
    "\n",
    "\n",
    "#### **3. Tratamiento (La Causa)**\n",
    "- **C1GETAHEAD**: *Binaria* que indica si el estudiante participó en cursos de verano o actividades diseñadas para adelantar contenidos académicos.  \n",
    "- **X3TCREDADV**: *Float* que mide la cantidad total de créditos obtenidos en cursos avanzados (AP o IB).  \n",
    "- **X3TCREDHON**: *Float* que indica el número de créditos obtenidos en cursos “Honors” o de alta exigencia.  \n",
    "- **X5DUALCRSFLG**: *Binaria* que identifica si el estudiante cursó asignaturas “dual credit” o de formación preuniversitaria.  \n",
    "- **A1G9STUDY**: *Binaria* que indica si la escuela enseña o promueve técnicas de estudio como parte del currículo académico.\n",
    "\n",
    "\n",
    "#### **4. Resultado (El Efecto)**\n",
    "- **X3TGPAACAD**: *Float* que representa el GPA académico general acumulado del estudiante durante la enseñanza media.  \n",
    "- **X3TGPA12TH**: *Float* que refleja el promedio general (GPA) obtenido en el último año de high school (12° grado).\n",
    "\n",
    "\n",
    "#### **(Futuro – Seguimiento postsecundario)**\n",
    "- **X5GPAALL**: *Float* que indica el GPA promedio de todas las instituciones de educación superior cursadas por el estudiante (medido en 2017).  \n",
    "- **X3TXSATCOMP**: *Float* que representa el puntaje total combinado en pruebas estandarizadas SAT/ACT, como indicador adicional de desempeño académico.\n"
   ]
  },
  {
   "cell_type": "markdown",
   "id": "854a2be1",
   "metadata": {
    "id": "854a2be1"
   },
   "source": [
    "# Parte 2: Limpieza del dataset y Normalización "
   ]
  },
  {
   "cell_type": "code",
   "execution_count": 3,
   "id": "a7fc89bf",
   "metadata": {},
   "outputs": [
    {
     "data": {
      "text/html": [
       "<div>\n",
       "<style scoped>\n",
       "    .dataframe tbody tr th:only-of-type {\n",
       "        vertical-align: middle;\n",
       "    }\n",
       "\n",
       "    .dataframe tbody tr th {\n",
       "        vertical-align: top;\n",
       "    }\n",
       "\n",
       "    .dataframe thead th {\n",
       "        text-align: right;\n",
       "    }\n",
       "</style>\n",
       "<table border=\"1\" class=\"dataframe\">\n",
       "  <thead>\n",
       "    <tr style=\"text-align: right;\">\n",
       "      <th></th>\n",
       "      <th>STU_ID</th>\n",
       "      <th>SCH_ID</th>\n",
       "      <th>X3TGPA9TH</th>\n",
       "      <th>X1TXMTH</th>\n",
       "      <th>X1PAREDU</th>\n",
       "      <th>X1FAMINCOME</th>\n",
       "      <th>X1POVERTY</th>\n",
       "      <th>X1POVERTY130</th>\n",
       "      <th>X1PAR1EMP</th>\n",
       "      <th>X1SEX</th>\n",
       "      <th>...</th>\n",
       "      <th>X1STDOB</th>\n",
       "      <th>C1GETAHEAD</th>\n",
       "      <th>X3TCREDADV</th>\n",
       "      <th>X3TCREDHON</th>\n",
       "      <th>X5DUALCRSFLG</th>\n",
       "      <th>A1G9STUDY</th>\n",
       "      <th>X3TGPAACAD</th>\n",
       "      <th>X3TGPA12TH</th>\n",
       "      <th>X5GPAALL</th>\n",
       "      <th>X3TXSATCOMP</th>\n",
       "    </tr>\n",
       "  </thead>\n",
       "  <tbody>\n",
       "    <tr>\n",
       "      <th>0</th>\n",
       "      <td>10001</td>\n",
       "      <td>-5</td>\n",
       "      <td>3.5</td>\n",
       "      <td>0.8304</td>\n",
       "      <td>5</td>\n",
       "      <td>10</td>\n",
       "      <td>0</td>\n",
       "      <td>0</td>\n",
       "      <td>4</td>\n",
       "      <td>1</td>\n",
       "      <td>...</td>\n",
       "      <td>199502</td>\n",
       "      <td>-5</td>\n",
       "      <td>3.0</td>\n",
       "      <td>0.0</td>\n",
       "      <td>3</td>\n",
       "      <td>0</td>\n",
       "      <td>3.5</td>\n",
       "      <td>3.5</td>\n",
       "      <td>3.6</td>\n",
       "      <td>-5</td>\n",
       "    </tr>\n",
       "    <tr>\n",
       "      <th>1</th>\n",
       "      <td>10002</td>\n",
       "      <td>-5</td>\n",
       "      <td>4.0</td>\n",
       "      <td>-0.2956</td>\n",
       "      <td>3</td>\n",
       "      <td>3</td>\n",
       "      <td>0</td>\n",
       "      <td>0</td>\n",
       "      <td>3</td>\n",
       "      <td>2</td>\n",
       "      <td>...</td>\n",
       "      <td>199511</td>\n",
       "      <td>-5</td>\n",
       "      <td>0.0</td>\n",
       "      <td>0.0</td>\n",
       "      <td>3</td>\n",
       "      <td>0</td>\n",
       "      <td>4.0</td>\n",
       "      <td>4.0</td>\n",
       "      <td>2.9</td>\n",
       "      <td>-5</td>\n",
       "    </tr>\n",
       "    <tr>\n",
       "      <th>2</th>\n",
       "      <td>10003</td>\n",
       "      <td>-5</td>\n",
       "      <td>3.5</td>\n",
       "      <td>1.2997</td>\n",
       "      <td>7</td>\n",
       "      <td>6</td>\n",
       "      <td>0</td>\n",
       "      <td>0</td>\n",
       "      <td>4</td>\n",
       "      <td>2</td>\n",
       "      <td>...</td>\n",
       "      <td>199506</td>\n",
       "      <td>-5</td>\n",
       "      <td>6.0</td>\n",
       "      <td>4.0</td>\n",
       "      <td>3</td>\n",
       "      <td>0</td>\n",
       "      <td>2.5</td>\n",
       "      <td>3.0</td>\n",
       "      <td>2.7</td>\n",
       "      <td>-5</td>\n",
       "    </tr>\n",
       "    <tr>\n",
       "      <th>3</th>\n",
       "      <td>10004</td>\n",
       "      <td>-5</td>\n",
       "      <td>3.5</td>\n",
       "      <td>-0.1427</td>\n",
       "      <td>4</td>\n",
       "      <td>5</td>\n",
       "      <td>0</td>\n",
       "      <td>0</td>\n",
       "      <td>2</td>\n",
       "      <td>2</td>\n",
       "      <td>...</td>\n",
       "      <td>199505</td>\n",
       "      <td>-5</td>\n",
       "      <td>5.0</td>\n",
       "      <td>10.5</td>\n",
       "      <td>-6</td>\n",
       "      <td>0</td>\n",
       "      <td>4.0</td>\n",
       "      <td>4.0</td>\n",
       "      <td>-6.0</td>\n",
       "      <td>-5</td>\n",
       "    </tr>\n",
       "    <tr>\n",
       "      <th>4</th>\n",
       "      <td>10005</td>\n",
       "      <td>-5</td>\n",
       "      <td>3.5</td>\n",
       "      <td>1.1405</td>\n",
       "      <td>4</td>\n",
       "      <td>9</td>\n",
       "      <td>0</td>\n",
       "      <td>0</td>\n",
       "      <td>4</td>\n",
       "      <td>1</td>\n",
       "      <td>...</td>\n",
       "      <td>199505</td>\n",
       "      <td>-5</td>\n",
       "      <td>5.0</td>\n",
       "      <td>0.5</td>\n",
       "      <td>-6</td>\n",
       "      <td>0</td>\n",
       "      <td>3.5</td>\n",
       "      <td>3.5</td>\n",
       "      <td>-6.0</td>\n",
       "      <td>-5</td>\n",
       "    </tr>\n",
       "  </tbody>\n",
       "</table>\n",
       "<p>5 rows × 21 columns</p>\n",
       "</div>"
      ],
      "text/plain": [
       "   STU_ID  SCH_ID  X3TGPA9TH  X1TXMTH  X1PAREDU  X1FAMINCOME  X1POVERTY  \\\n",
       "0   10001      -5        3.5   0.8304         5           10          0   \n",
       "1   10002      -5        4.0  -0.2956         3            3          0   \n",
       "2   10003      -5        3.5   1.2997         7            6          0   \n",
       "3   10004      -5        3.5  -0.1427         4            5          0   \n",
       "4   10005      -5        3.5   1.1405         4            9          0   \n",
       "\n",
       "   X1POVERTY130  X1PAR1EMP  X1SEX  ...  X1STDOB  C1GETAHEAD  X3TCREDADV  \\\n",
       "0             0          4      1  ...   199502          -5         3.0   \n",
       "1             0          3      2  ...   199511          -5         0.0   \n",
       "2             0          4      2  ...   199506          -5         6.0   \n",
       "3             0          2      2  ...   199505          -5         5.0   \n",
       "4             0          4      1  ...   199505          -5         5.0   \n",
       "\n",
       "   X3TCREDHON  X5DUALCRSFLG  A1G9STUDY  X3TGPAACAD  X3TGPA12TH  X5GPAALL  \\\n",
       "0         0.0             3          0         3.5         3.5       3.6   \n",
       "1         0.0             3          0         4.0         4.0       2.9   \n",
       "2         4.0             3          0         2.5         3.0       2.7   \n",
       "3        10.5            -6          0         4.0         4.0      -6.0   \n",
       "4         0.5            -6          0         3.5         3.5      -6.0   \n",
       "\n",
       "   X3TXSATCOMP  \n",
       "0           -5  \n",
       "1           -5  \n",
       "2           -5  \n",
       "3           -5  \n",
       "4           -5  \n",
       "\n",
       "[5 rows x 21 columns]"
      ]
     },
     "execution_count": 3,
     "metadata": {},
     "output_type": "execute_result"
    }
   ],
   "source": [
    "# Cargamos la base de datos nueva\n",
    "df = pd.read_csv(\"hsls09_filtrado.csv\")\n",
    "df.head()"
   ]
  },
  {
   "cell_type": "markdown",
   "id": "d4bc68d7",
   "metadata": {},
   "source": [
    "## 2.1 Investigar valores nulos"
   ]
  },
  {
   "cell_type": "markdown",
   "id": "KfS6x9DH5ROO",
   "metadata": {
    "id": "KfS6x9DH5ROO"
   },
   "source": [
    "# Parte 3: Línea Base Predictiva (KNN)"
   ]
  },
  {
   "cell_type": "markdown",
   "id": "BfTMBPOi8g3v",
   "metadata": {
    "id": "BfTMBPOi8g3v"
   },
   "source": [
    "## 3.1 k-Nearest Neighbors"
   ]
  }
 ],
 "metadata": {
  "colab": {
   "provenance": []
  },
  "kernelspec": {
   "display_name": "Python 3",
   "language": "python",
   "name": "python3"
  },
  "language_info": {
   "codemirror_mode": {
    "name": "ipython",
    "version": 3
   },
   "file_extension": ".py",
   "mimetype": "text/x-python",
   "name": "python",
   "nbconvert_exporter": "python",
   "pygments_lexer": "ipython3",
   "version": "3.12.4"
  }
 },
 "nbformat": 4,
 "nbformat_minor": 5
}
